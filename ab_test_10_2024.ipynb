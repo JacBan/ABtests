{
 "cells": [
  {
   "cell_type": "code",
   "execution_count": 31,
   "id": "cf4d0809-7fe6-4c26-b050-b3e58cefaa5b",
   "metadata": {},
   "outputs": [],
   "source": [
    "Example project https://www.kaggle.com/code/sultansagynov/first-glance-on-a-b-test-aggregated-data\n",
    "import numpy as np\n",
    "import pandas as pd\n",
    "import matplotlib.pyplot as plt\n",
    "import seaborn as sns\n",
    "\n",
    "from scipy.stats import shapiro\n",
    "from scipy.stats import mannwhitneyu"
   ]
  },
  {
   "cell_type": "code",
   "execution_count": 32,
   "id": "7c0bc378-9fc7-4650-ae6d-cf03fcde1409",
   "metadata": {},
   "outputs": [],
   "source": [
    "df = pd.read_csv(r\"/Users/home/Documents/projects/Analysis/A:B Test 10:24/ab_test_results_aggregated_views_clicks_2.csv\")"
   ]
  },
  {
   "cell_type": "code",
   "execution_count": 33,
   "id": "9f3e104c-dd65-4237-bfeb-92430918c7bb",
   "metadata": {},
   "outputs": [
    {
     "data": {
      "text/html": [
       "<div>\n",
       "<style scoped>\n",
       "    .dataframe tbody tr th:only-of-type {\n",
       "        vertical-align: middle;\n",
       "    }\n",
       "\n",
       "    .dataframe tbody tr th {\n",
       "        vertical-align: top;\n",
       "    }\n",
       "\n",
       "    .dataframe thead th {\n",
       "        text-align: right;\n",
       "    }\n",
       "</style>\n",
       "<table border=\"1\" class=\"dataframe\">\n",
       "  <thead>\n",
       "    <tr style=\"text-align: right;\">\n",
       "      <th></th>\n",
       "      <th>user_id</th>\n",
       "      <th>group</th>\n",
       "      <th>views</th>\n",
       "      <th>clicks</th>\n",
       "    </tr>\n",
       "  </thead>\n",
       "  <tbody>\n",
       "    <tr>\n",
       "      <th>0</th>\n",
       "      <td>1</td>\n",
       "      <td>control</td>\n",
       "      <td>10.0</td>\n",
       "      <td>0.0</td>\n",
       "    </tr>\n",
       "    <tr>\n",
       "      <th>1</th>\n",
       "      <td>2</td>\n",
       "      <td>control</td>\n",
       "      <td>1.0</td>\n",
       "      <td>0.0</td>\n",
       "    </tr>\n",
       "    <tr>\n",
       "      <th>2</th>\n",
       "      <td>3</td>\n",
       "      <td>control</td>\n",
       "      <td>1.0</td>\n",
       "      <td>0.0</td>\n",
       "    </tr>\n",
       "  </tbody>\n",
       "</table>\n",
       "</div>"
      ],
      "text/plain": [
       "   user_id    group  views  clicks\n",
       "0        1  control   10.0     0.0\n",
       "1        2  control    1.0     0.0\n",
       "2        3  control    1.0     0.0"
      ]
     },
     "execution_count": 33,
     "metadata": {},
     "output_type": "execute_result"
    }
   ],
   "source": [
    "df.head(3)"
   ]
  },
  {
   "cell_type": "code",
   "execution_count": 34,
   "id": "11c31102-d127-4bd3-ad8d-6bba32bcc805",
   "metadata": {},
   "outputs": [
    {
     "name": "stdout",
     "output_type": "stream",
     "text": [
      "<class 'pandas.core.frame.DataFrame'>\n",
      "RangeIndex: 120000 entries, 0 to 119999\n",
      "Data columns (total 4 columns):\n",
      " #   Column   Non-Null Count   Dtype  \n",
      "---  ------   --------------   -----  \n",
      " 0   user_id  120000 non-null  int64  \n",
      " 1   group    120000 non-null  object \n",
      " 2   views    120000 non-null  float64\n",
      " 3   clicks   120000 non-null  float64\n",
      "dtypes: float64(2), int64(1), object(1)\n",
      "memory usage: 3.7+ MB\n"
     ]
    }
   ],
   "source": [
    "df.info()"
   ]
  },
  {
   "cell_type": "code",
   "execution_count": 35,
   "id": "2427fda8-8916-47f8-b486-bed4e605546a",
   "metadata": {},
   "outputs": [
    {
     "data": {
      "text/html": [
       "<div>\n",
       "<style scoped>\n",
       "    .dataframe tbody tr th:only-of-type {\n",
       "        vertical-align: middle;\n",
       "    }\n",
       "\n",
       "    .dataframe tbody tr th {\n",
       "        vertical-align: top;\n",
       "    }\n",
       "\n",
       "    .dataframe thead th {\n",
       "        text-align: right;\n",
       "    }\n",
       "</style>\n",
       "<table border=\"1\" class=\"dataframe\">\n",
       "  <thead>\n",
       "    <tr style=\"text-align: right;\">\n",
       "      <th></th>\n",
       "      <th>user_id</th>\n",
       "      <th>views</th>\n",
       "      <th>clicks</th>\n",
       "    </tr>\n",
       "  </thead>\n",
       "  <tbody>\n",
       "    <tr>\n",
       "      <th>count</th>\n",
       "      <td>120000.000000</td>\n",
       "      <td>120000.000000</td>\n",
       "      <td>120000.000000</td>\n",
       "    </tr>\n",
       "    <tr>\n",
       "      <th>mean</th>\n",
       "      <td>60000.500000</td>\n",
       "      <td>4.991075</td>\n",
       "      <td>0.182692</td>\n",
       "    </tr>\n",
       "    <tr>\n",
       "      <th>std</th>\n",
       "      <td>34641.160489</td>\n",
       "      <td>5.915200</td>\n",
       "      <td>0.472547</td>\n",
       "    </tr>\n",
       "    <tr>\n",
       "      <th>min</th>\n",
       "      <td>1.000000</td>\n",
       "      <td>1.000000</td>\n",
       "      <td>0.000000</td>\n",
       "    </tr>\n",
       "    <tr>\n",
       "      <th>25%</th>\n",
       "      <td>30000.750000</td>\n",
       "      <td>2.000000</td>\n",
       "      <td>0.000000</td>\n",
       "    </tr>\n",
       "    <tr>\n",
       "      <th>50%</th>\n",
       "      <td>60000.500000</td>\n",
       "      <td>3.000000</td>\n",
       "      <td>0.000000</td>\n",
       "    </tr>\n",
       "    <tr>\n",
       "      <th>75%</th>\n",
       "      <td>90000.250000</td>\n",
       "      <td>6.000000</td>\n",
       "      <td>0.000000</td>\n",
       "    </tr>\n",
       "    <tr>\n",
       "      <th>max</th>\n",
       "      <td>120000.000000</td>\n",
       "      <td>205.000000</td>\n",
       "      <td>9.000000</td>\n",
       "    </tr>\n",
       "  </tbody>\n",
       "</table>\n",
       "</div>"
      ],
      "text/plain": [
       "             user_id          views         clicks\n",
       "count  120000.000000  120000.000000  120000.000000\n",
       "mean    60000.500000       4.991075       0.182692\n",
       "std     34641.160489       5.915200       0.472547\n",
       "min         1.000000       1.000000       0.000000\n",
       "25%     30000.750000       2.000000       0.000000\n",
       "50%     60000.500000       3.000000       0.000000\n",
       "75%     90000.250000       6.000000       0.000000\n",
       "max    120000.000000     205.000000       9.000000"
      ]
     },
     "execution_count": 35,
     "metadata": {},
     "output_type": "execute_result"
    }
   ],
   "source": [
    "df.describe()"
   ]
  },
  {
   "cell_type": "code",
   "execution_count": 36,
   "id": "0399b9f6-dff4-44d4-8c69-dc91ec36736b",
   "metadata": {},
   "outputs": [
    {
     "data": {
      "image/png": "[encoded data removed]",
      "text/plain": [
       "<Figure size 640x480 with 1 Axes>"
      ]
     },
     "metadata": {},
     "output_type": "display_data"
    },
    {
     "data": {
      "text/plain": [
       "clicks\n",
       "0.0    0.845642\n",
       "1.0    0.132050\n",
       "2.0    0.018008\n",
       "3.0    0.003142\n",
       "4.0    0.000817\n",
       "5.0    0.000200\n",
       "6.0    0.000083\n",
       "7.0    0.000042\n",
       "9.0    0.000008\n",
       "8.0    0.000008\n",
       "Name: proportion, dtype: float64"
      ]
     },
     "execution_count": 36,
     "metadata": {},
     "output_type": "execute_result"
    }
   ],
   "source": [
    "plt.figure()\n",
    "plt.hist(df[\"views\"])\n",
    "plt.show()\n",
    "\n",
    "df[\"clicks\"].value_counts(normalize=True)"
   ]
  },
  {
   "cell_type": "code",
   "execution_count": 37,
   "id": "9c2877cf-da36-4a3b-9a13-36fb96802111",
   "metadata": {},
   "outputs": [
    {
     "data": {
      "image/png": "[encoded data removed]",
      "text/plain": [
       "<Figure size 640x480 with 1 Axes>"
      ]
     },
     "metadata": {},
     "output_type": "display_data"
    },
    {
     "data": {
      "image/png": "[encoded data removed]",
      "text/plain": [
       "<Figure size 640x480 with 1 Axes>"
      ]
     },
     "metadata": {},
     "output_type": "display_data"
    }
   ],
   "source": [
    "plt.figure()\n",
    "plt.boxplot(df['views'])\n",
    "plt.show()\n",
    "\n",
    "plt.figure()\n",
    "plt.boxplot(df['clicks'])\n",
    "plt.show()"
   ]
  },
  {
   "cell_type": "code",
   "execution_count": 38,
   "id": "4fe7ea6d-5afe-4771-a63e-555185b70eb5",
   "metadata": {},
   "outputs": [
    {
     "data": {
      "image/png": "[encoded data removed]",
      "text/plain": [
       "<Figure size 640x480 with 1 Axes>"
      ]
     },
     "metadata": {},
     "output_type": "display_data"
    }
   ],
   "source": [
    "df_high_clicks = df[(df[\"clicks\"] > 2)]\n",
    "# Add jitter to discrete variable to separate overlapping points\n",
    "sns.stripplot(x=\"clicks\", y=\"views\", data=df_high_clicks, jitter=True)\n",
    "plt.show()"
   ]
  },
  {
   "cell_type": "code",
   "execution_count": 39,
   "id": "9de389bc-19df-455e-9081-103f55063484",
   "metadata": {},
   "outputs": [
    {
     "name": "stdout",
     "output_type": "stream",
     "text": [
      "Upper bound for outliers: 12.0\n"
     ]
    }
   ],
   "source": [
    "Q1 = df[\"views\"].quantile(0.25)\n",
    "Q3 = df[\"views\"].quantile(0.75)\n",
    "\n",
    "# Calculate the IQR\n",
    "IQR = Q3 - Q1\n",
    "\n",
    "# Calculate the upper bound for outliers\n",
    "upper_bound = Q3 + 1.5 * IQR\n",
    "\n",
    "# Identify upper outliers\n",
    "upper_outliers = df[\"views\"][df[\"views\"] > upper_bound]\n",
    "\n",
    "# Output the upper bound\n",
    "print(f\"Upper bound for outliers: {upper_bound}\")"
   ]
  },
  {
   "cell_type": "code",
   "execution_count": 40,
   "id": "a864a9d8-7678-4db8-a7df-626457819c9d",
   "metadata": {},
   "outputs": [
    {
     "name": "stdout",
     "output_type": "stream",
     "text": [
      "6.96%\n"
     ]
    }
   ],
   "source": [
    "print(f'{round(df[(df[\"views\"] > 12)][\"views\"].count() / df[\"views\"].count() * 100,2)}%')"
   ]
  },
  {
   "cell_type": "code",
   "execution_count": 41,
   "id": "d690adb7-19ec-498b-83e1-ebb750b40ab9",
   "metadata": {},
   "outputs": [
    {
     "data": {
      "image/png": "[encoded data removed]",
      "text/plain": [
       "<Figure size 640x480 with 1 Axes>"
      ]
     },
     "metadata": {},
     "output_type": "display_data"
    }
   ],
   "source": [
    "df_viewoutliers_removed = df[(df[\"views\"] <= 12)]\n",
    "\n",
    "plt.figure()\n",
    "plt.hist(df_viewoutliers_removed[\"views\"])\n",
    "plt.show()"
   ]
  },
  {
   "cell_type": "code",
   "execution_count": 42,
   "id": "6fd8ff4d-d77e-418a-95a7-45fe517e2f01",
   "metadata": {
    "scrolled": true
   },
   "outputs": [
    {
     "data": {
      "image/png": "[encoded data removed]",
      "text/plain": [
       "<Figure size 640x480 with 1 Axes>"
      ]
     },
     "metadata": {},
     "output_type": "display_data"
    }
   ],
   "source": [
    "sns.stripplot(x=\"clicks\", y=\"views\", data=df_viewoutliers_removed, jitter=True)\n",
    "plt.show()"
   ]
  },
  {
   "cell_type": "code",
   "execution_count": 43,
   "id": "11347bab-a8bb-401b-9b4e-3a888fe74425",
   "metadata": {},
   "outputs": [
    {
     "data": {
      "text/plain": [
       "3.47771327923031"
      ]
     },
     "execution_count": 43,
     "metadata": {},
     "output_type": "execute_result"
    }
   ],
   "source": [
    "df_control = df_viewoutliers_removed.loc[df_viewoutliers_removed[\"group\"] == \"control\"]\n",
    "(df_control[\"clicks\"].mean() / df_control[\"views\"].mean()) * 100"
   ]
  },
  {
   "cell_type": "code",
   "execution_count": 44,
   "id": "acaf2cf4-988e-414b-9585-24d091d53967",
   "metadata": {},
   "outputs": [
    {
     "data": {
      "text/plain": [
       "3.8779940049426336"
      ]
     },
     "execution_count": 44,
     "metadata": {},
     "output_type": "execute_result"
    }
   ],
   "source": [
    "df_test = df_viewoutliers_removed.loc[df_viewoutliers_removed[\"group\"] == \"test\"]\n",
    "(df_test[\"clicks\"].mean() / df_test[\"views\"].mean()) * 100"
   ]
  },
  {
   "cell_type": "code",
   "execution_count": 45,
   "id": "f7f147bc-6b09-4d12-87ab-9cf310e38f1e",
   "metadata": {},
   "outputs": [
    {
     "name": "stderr",
     "output_type": "stream",
     "text": [
      "/opt/anaconda3/lib/python3.8/site-packages/scipy/stats/_morestats.py:1800: UserWarning: p-value may not be accurate for N > 5000.\n",
      "  warnings.warn(\"p-value may not be accurate for N > 5000.\")\n"
     ]
    },
    {
     "data": {
      "text/plain": [
       "ShapiroResult(statistic=0.389129638671875, pvalue=0.0)"
      ]
     },
     "execution_count": 45,
     "metadata": {},
     "output_type": "execute_result"
    }
   ],
   "source": [
    "shapiro(df_control['clicks'])"
   ]
  },
  {
   "cell_type": "code",
   "execution_count": 46,
   "id": "ddcac4cc-188d-4f4d-b784-7fc98f1beb96",
   "metadata": {},
   "outputs": [
    {
     "data": {
      "text/plain": [
       "ShapiroResult(statistic=0.4103204607963562, pvalue=0.0)"
      ]
     },
     "execution_count": 46,
     "metadata": {},
     "output_type": "execute_result"
    }
   ],
   "source": [
    "shapiro(df_test['clicks'])"
   ]
  },
  {
   "cell_type": "code",
   "execution_count": 47,
   "id": "ec4ff4de-9f6b-4442-b703-9813130c83b6",
   "metadata": {},
   "outputs": [
    {
     "data": {
      "text/plain": [
       "MannwhitneyuResult(statistic=1538317034.0, pvalue=1.9559880029243224e-10)"
      ]
     },
     "execution_count": 47,
     "metadata": {},
     "output_type": "execute_result"
    }
   ],
   "source": [
    "mannwhitneyu(df_control['clicks'], \n",
    "             df_test['clicks'])"
   ]
  },
  {
   "cell_type": "code",
   "execution_count": null,
   "id": "520c6028-3023-4a0e-b86b-e402ceaad390",
   "metadata": {},
   "outputs": [],
   "source": []
  }
 ],
 "metadata": {
  "kernelspec": {
   "display_name": "Python 3 (ipykernel)",
   "language": "python",
   "name": "python3"
  },
  "language_info": {
   "codemirror_mode": {
    "name": "ipython",
    "version": 3
   },
   "file_extension": ".py",
   "mimetype": "text/x-python",
   "name": "python",
   "nbconvert_exporter": "python",
   "pygments_lexer": "ipython3",
   "version": "3.8.18"
  }
 },
 "nbformat": 4,
 "nbformat_minor": 5
}
